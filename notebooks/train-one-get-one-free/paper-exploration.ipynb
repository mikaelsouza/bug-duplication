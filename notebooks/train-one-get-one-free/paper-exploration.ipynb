{
 "cells": [
  {
   "cell_type": "markdown",
   "metadata": {},
   "source": [
    "# Notebook exploratório\n",
    "\n",
    "- Artigo: Train one get one free\n",
    "- Link: https://arxiv.org/abs/1903.12431"
   ]
  },
  {
   "cell_type": "markdown",
   "metadata": {},
   "source": [
    "## 0.1 Inicializando o GloVe"
   ]
  },
  {
   "cell_type": "code",
   "execution_count": 170,
   "metadata": {},
   "outputs": [],
   "source": [
    "import torchtext as tt"
   ]
  },
  {
   "cell_type": "code",
   "execution_count": 171,
   "metadata": {},
   "outputs": [],
   "source": [
    "glove = tt.vocab.GloVe('6B', dim=50)\n",
    "glove_vocab = set(glove.stoi.keys())"
   ]
  },
  {
   "cell_type": "markdown",
   "metadata": {},
   "source": [
    "## 1.1 Carregando dados de uma das bases para exemplo"
   ]
  },
  {
   "cell_type": "code",
   "execution_count": 172,
   "metadata": {},
   "outputs": [],
   "source": [
    "import pandas as pd"
   ]
  },
  {
   "cell_type": "code",
   "execution_count": 173,
   "metadata": {},
   "outputs": [
    {
     "data": {
      "text/html": "<div>\n<style scoped>\n    .dataframe tbody tr th:only-of-type {\n        vertical-align: middle;\n    }\n\n    .dataframe tbody tr th {\n        vertical-align: top;\n    }\n\n    .dataframe thead th {\n        text-align: right;\n    }\n</style>\n<table border=\"1\" class=\"dataframe\">\n  <thead>\n    <tr style=\"text-align: right;\">\n      <th></th>\n      <th>short_desc</th>\n    </tr>\n    <tr>\n      <th>bug_id</th>\n      <th></th>\n    </tr>\n  </thead>\n  <tbody>\n    <tr>\n      <th>1</th>\n      <td>Usability issue with external editors (1GE6IRL)</td>\n    </tr>\n    <tr>\n      <th>2</th>\n      <td>Opening repository resources doesn't honor typ...</td>\n    </tr>\n    <tr>\n      <th>3</th>\n      <td>Sync does not indicate deletion (1GIEN83)</td>\n    </tr>\n    <tr>\n      <th>4</th>\n      <td>need better error message if catching up over ...</td>\n    </tr>\n    <tr>\n      <th>5</th>\n      <td>ISharingManager sharing API inconsistent (1GAU...</td>\n    </tr>\n  </tbody>\n</table>\n</div>",
      "text/plain": "                                               short_desc\nbug_id                                                   \n1         Usability issue with external editors (1GE6IRL)\n2       Opening repository resources doesn't honor typ...\n3               Sync does not indicate deletion (1GIEN83)\n4       need better error message if catching up over ...\n5       ISharingManager sharing API inconsistent (1GAU..."
     },
     "execution_count": 173,
     "metadata": {},
     "output_type": "execute_result"
    }
   ],
   "source": [
    "eclipse = pd.read_csv('../../data/processed/eclipse.csv', index_col='bug_id')\n",
    "eclipse.head()"
   ]
  },
  {
   "cell_type": "markdown",
   "metadata": {},
   "source": [
    "## 1.2 Preprocessamento dos dados"
   ]
  },
  {
   "cell_type": "code",
   "execution_count": 174,
   "metadata": {},
   "outputs": [
    {
     "data": {
      "text/plain": "bug_id\n1             usability issue with external editors 1ge6irl\n2         opening repository resources doesnt honor type...\n3                   sync does not indicate deletion 1gien83\n4         need better error message if catching up over ...\n5          isharingmanager sharing api inconsistent 1gaul8h\n                                ...                        \n424774          rwt browserwindowhandler doesnt work on osx\n424775    invalid unused imports warnings and invalid or...\n424776                         spinner allows any character\n424778    allow to ignore builtin priorities of pluggabl...\n424779                          syntax problem not reported\nName: short_desc, Length: 334422, dtype: object"
     },
     "execution_count": 174,
     "metadata": {},
     "output_type": "execute_result"
    }
   ],
   "source": [
    "remove_nonalpha = lambda word: ''.join([x for x in word if str.isalpha(x) or str.isnumeric(x) or x == ' '])\n",
    "\n",
    "short_desc = eclipse['short_desc']\n",
    "short_desc = short_desc.apply(str.lower)\n",
    "short_desc = short_desc.apply(remove_nonalpha)\n",
    "short_desc"
   ]
  },
  {
   "cell_type": "markdown",
   "metadata": {},
   "source": [
    "## 1.3 Explorando vocabulário das descrições"
   ]
  },
  {
   "cell_type": "code",
   "execution_count": 175,
   "metadata": {},
   "outputs": [],
   "source": [
    "from collections import defaultdict"
   ]
  },
  {
   "cell_type": "code",
   "execution_count": 176,
   "metadata": {},
   "outputs": [
    {
     "data": {
      "text/plain": "111313"
     },
     "execution_count": 176,
     "metadata": {},
     "output_type": "execute_result"
    }
   ],
   "source": [
    "base_freq = defaultdict(int)\n",
    "for sentence in short_desc:\n",
    "    for word in sentence.split():\n",
    "        base_freq[word] += 1\n",
    "base_vocab = set(base_freq.keys())\n",
    "len(base_vocab)"
   ]
  },
  {
   "cell_type": "markdown",
   "metadata": {},
   "source": [
    "## 1.4 Explorando diferenças entre vocabulário do GloVe e das descrições"
   ]
  },
  {
   "cell_type": "code",
   "execution_count": 177,
   "metadata": {},
   "outputs": [
    {
     "name": "stdout",
     "output_type": "stream",
     "text": [
      "Número de palavras distintas:  94763\n"
     ]
    }
   ],
   "source": [
    "print(\"Número de palavras distintas: \", len(base_vocab - glove_vocab))"
   ]
  },
  {
   "cell_type": "markdown",
   "metadata": {},
   "source": [
    "## 1.5 Removendo palavras menos frequentes do vocabulário"
   ]
  },
  {
   "cell_type": "code",
   "execution_count": 178,
   "metadata": {},
   "outputs": [
    {
     "name": "stdout",
     "output_type": "stream",
     "text": [
      "Número de palavras do vocabulário:  17026\n",
      "Número de palavras compartilhadas entre os dois vocabulários:  9193\n",
      "Número de palavras distintas:  7833\n"
     ]
    }
   ],
   "source": [
    "MIN_FREQ = 3\n",
    "\n",
    "base_freq = {key: value for key, value in base_freq.items() if value > MIN_FREQ}\n",
    "base_freq\n",
    "base_vocab = set(base_freq.keys())\n",
    "print(\"Número de palavras do vocabulário: \", len(base_vocab))\n",
    "print(\"Número de palavras compartilhadas entre os dois vocabulários: \", len(base_vocab & glove_vocab))\n",
    "print(\"Número de palavras distintas: \", len(base_vocab - glove_vocab))"
   ]
  },
  {
   "cell_type": "markdown",
   "metadata": {},
   "source": [
    "## 1.6 Obtendo pesos das palavras existentes no vocabulário do GloVe\n",
    "\n",
    "* Obtendo palavras que estão dentro do vocabulário do GloVe\n",
    "* Extraindo o STOI das palavras que estão apenas no vocabulário\n",
    "* Obtendo os vetores correspondentes as palavras pertencentes ao vocabulário\n",
    "* Gerando um novo STOI iniciado de 0 usando apenas as palavras existentes no vocabulário"
   ]
  },
  {
   "cell_type": "code",
   "execution_count": 179,
   "metadata": {},
   "outputs": [],
   "source": [
    "import torch"
   ]
  },
  {
   "cell_type": "code",
   "execution_count": 180,
   "metadata": {},
   "outputs": [],
   "source": [
    "in_vocab = base_vocab & glove_vocab\n",
    "in_size = len(in_vocab)\n",
    "\n",
    "in_stoi = {x: glove.stoi[x] for x in in_vocab}\n",
    "in_stoi = {k: v for k, v in sorted(in_stoi.items(), key=lambda x:x[1])}\n",
    "in_vectors = glove.vectors[list(in_stoi.values())]\n",
    "in_stoi = {key: value for key, value in zip(in_stoi.keys(), range(in_size))}"
   ]
  },
  {
   "cell_type": "markdown",
   "metadata": {},
   "source": [
    "## 1.7 Gerando pesos para palavras fora do vocabulário do GloVe\n",
    "\n",
    "* Obtem as palavras que não estão no vocabulário\n",
    "* Gera um vetor de zeros com o shape `[n_palavras_fora_vocab, shape_do_glove]`\n",
    "* Utiliza o vetor de zeros pra gerar um tensor que segue distribuição normal\n",
    "* Gera um STOI para continuar o STOI anterior"
   ]
  },
  {
   "cell_type": "code",
   "execution_count": 181,
   "metadata": {},
   "outputs": [],
   "source": [
    "glove_shape = glove.vectors.shape[-1]\n",
    "\n",
    "out_vocab = sorted(list(base_vocab - glove_vocab))\n",
    "out_size = len(out_vocab)\n",
    "\n",
    "zeros = torch.zeros((out_size, glove_shape))\n",
    "out_vectors = torch.normal(mean=zeros, std=1)\n",
    "\n",
    "out_stoi = {key: value for key, value in zip(out_vocab, range(in_size, in_size + out_size))}"
   ]
  },
  {
   "cell_type": "markdown",
   "metadata": {},
   "source": [
    "## 1.8 Unindo representações"
   ]
  },
  {
   "cell_type": "code",
   "execution_count": 182,
   "metadata": {},
   "outputs": [],
   "source": [
    "base_vectors = torch.cat((in_vectors, out_vectors))\n",
    "base_stoi = {**in_stoi, **out_stoi}"
   ]
  },
  {
   "cell_type": "markdown",
   "metadata": {},
   "source": [
    "## 2.0 Implementando rede"
   ]
  },
  {
   "cell_type": "code",
   "execution_count": null,
   "metadata": {},
   "outputs": [],
   "source": []
  }
 ],
 "metadata": {
  "kernelspec": {
   "display_name": "Python 3",
   "language": "python",
   "name": "python3"
  },
  "language_info": {
   "codemirror_mode": {
    "name": "ipython",
    "version": 3
   },
   "file_extension": ".py",
   "mimetype": "text/x-python",
   "name": "python",
   "nbconvert_exporter": "python",
   "pygments_lexer": "ipython3",
   "version": "3.6.9"
  },
  "orig_nbformat": 2
 },
 "nbformat": 4,
 "nbformat_minor": 2
}