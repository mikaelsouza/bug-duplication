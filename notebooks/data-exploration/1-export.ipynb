{
 "cells": [
  {
   "cell_type": "markdown",
   "metadata": {},
   "source": [
    "# Explicação das bases de dados e extração da `short_desc`"
   ]
  },
  {
   "cell_type": "code",
   "execution_count": 34,
   "metadata": {},
   "outputs": [],
   "source": [
    "import pandas as pd\n",
    "from pathlib import Path\n",
    "from os.path import join"
   ]
  },
  {
   "cell_type": "markdown",
   "metadata": {},
   "source": [
    "## 1. Carregamento e verificação das bases"
   ]
  },
  {
   "cell_type": "code",
   "execution_count": 35,
   "metadata": {},
   "outputs": [],
   "source": [
    "raw_path = Path('../../data/raw/')\n",
    "processed_path = Path('../../data/processed/')\n",
    "\n",
    "eclipse_path = join(raw_path, 'eclipse.csv')\n",
    "netbeans_path = join(raw_path, 'netbeans.csv')\n",
    "openoffice_path = join(raw_path, 'openoffice.csv')\n",
    "\n",
    "eclipse = pd.read_csv(eclipse_path, index_col='bug_id').sort_values('bug_id')\n",
    "netbeans = pd.read_csv(netbeans_path, index_col='bug_id').sort_values('bug_id')\n",
    "openoffice = pd.read_csv(openoffice_path, index_col='bug_id').sort_values('bug_id')"
   ]
  },
  {
   "cell_type": "code",
   "execution_count": 36,
   "metadata": {},
   "outputs": [
    {
     "data": {
      "text/html": "<div>\n<style scoped>\n    .dataframe tbody tr th:only-of-type {\n        vertical-align: middle;\n    }\n\n    .dataframe tbody tr th {\n        vertical-align: top;\n    }\n\n    .dataframe thead th {\n        text-align: right;\n    }\n</style>\n<table border=\"1\" class=\"dataframe\">\n  <thead>\n    <tr style=\"text-align: right;\">\n      <th></th>\n      <th>bug_severity</th>\n      <th>bug_status</th>\n      <th>component</th>\n      <th>creation_ts</th>\n      <th>delta_ts</th>\n      <th>description</th>\n      <th>dup_id</th>\n      <th>priority</th>\n      <th>product</th>\n      <th>resolution</th>\n      <th>short_desc</th>\n      <th>version</th>\n    </tr>\n    <tr>\n      <th>bug_id</th>\n      <th></th>\n      <th></th>\n      <th></th>\n      <th></th>\n      <th></th>\n      <th></th>\n      <th></th>\n      <th></th>\n      <th></th>\n      <th></th>\n      <th></th>\n      <th></th>\n    </tr>\n  </thead>\n  <tbody>\n    <tr>\n      <th>1</th>\n      <td>normal</td>\n      <td>CLOSED</td>\n      <td>Team</td>\n      <td>2001-10-10 21:34:00 -0400</td>\n      <td>2012-02-09 15:57:47 -0500</td>\n      <td>- Setup a project that contains a *.gif resour...</td>\n      <td>[]</td>\n      <td>P3</td>\n      <td>Platform</td>\n      <td>FIXED</td>\n      <td>Usability issue with external editors (1GE6IRL)</td>\n      <td>2.0</td>\n    </tr>\n    <tr>\n      <th>2</th>\n      <td>normal</td>\n      <td>RESOLVED</td>\n      <td>Team</td>\n      <td>2001-10-10 21:34:00 -0400</td>\n      <td>2002-05-07 10:33:56 -0400</td>\n      <td>Opening repository resource always open the de...</td>\n      <td>[]</td>\n      <td>P5</td>\n      <td>Platform</td>\n      <td>FIXED</td>\n      <td>Opening repository resources doesn't honor typ...</td>\n      <td>2.0</td>\n    </tr>\n    <tr>\n      <th>3</th>\n      <td>normal</td>\n      <td>RESOLVED</td>\n      <td>Team</td>\n      <td>2001-10-10 21:34:00 -0400</td>\n      <td>2010-05-07 10:28:53 -0400</td>\n      <td>KM (10/2/2001 5:55:18 PM)\\n\\tThis PR about the...</td>\n      <td>[]</td>\n      <td>P5</td>\n      <td>Platform</td>\n      <td>FIXED</td>\n      <td>Sync does not indicate deletion (1GIEN83)</td>\n      <td>2.0</td>\n    </tr>\n    <tr>\n      <th>4</th>\n      <td>normal</td>\n      <td>RESOLVED</td>\n      <td>Team</td>\n      <td>2001-10-10 21:34:00 -0400</td>\n      <td>2002-03-01 16:27:31 -0500</td>\n      <td>- become synchronized with some project in a r...</td>\n      <td>[]</td>\n      <td>P5</td>\n      <td>Platform</td>\n      <td>FIXED</td>\n      <td>need better error message if catching up over ...</td>\n      <td>2.0</td>\n    </tr>\n    <tr>\n      <th>5</th>\n      <td>normal</td>\n      <td>RESOLVED</td>\n      <td>Team</td>\n      <td>2001-10-10 21:34:00 -0400</td>\n      <td>2008-08-15 08:04:36 -0400</td>\n      <td>For getting/setting the managed state of a res...</td>\n      <td>[]</td>\n      <td>P3</td>\n      <td>Platform</td>\n      <td>WONTFIX</td>\n      <td>ISharingManager sharing API inconsistent (1GAU...</td>\n      <td>2.0</td>\n    </tr>\n  </tbody>\n</table>\n</div>",
      "text/plain": "       bug_severity bug_status component                creation_ts  \\\nbug_id                                                                \n1            normal     CLOSED      Team  2001-10-10 21:34:00 -0400   \n2            normal   RESOLVED      Team  2001-10-10 21:34:00 -0400   \n3            normal   RESOLVED      Team  2001-10-10 21:34:00 -0400   \n4            normal   RESOLVED      Team  2001-10-10 21:34:00 -0400   \n5            normal   RESOLVED      Team  2001-10-10 21:34:00 -0400   \n\n                         delta_ts  \\\nbug_id                              \n1       2012-02-09 15:57:47 -0500   \n2       2002-05-07 10:33:56 -0400   \n3       2010-05-07 10:28:53 -0400   \n4       2002-03-01 16:27:31 -0500   \n5       2008-08-15 08:04:36 -0400   \n\n                                              description dup_id priority  \\\nbug_id                                                                      \n1       - Setup a project that contains a *.gif resour...     []       P3   \n2       Opening repository resource always open the de...     []       P5   \n3       KM (10/2/2001 5:55:18 PM)\\n\\tThis PR about the...     []       P5   \n4       - become synchronized with some project in a r...     []       P5   \n5       For getting/setting the managed state of a res...     []       P3   \n\n         product resolution  \\\nbug_id                        \n1       Platform      FIXED   \n2       Platform      FIXED   \n3       Platform      FIXED   \n4       Platform      FIXED   \n5       Platform    WONTFIX   \n\n                                               short_desc version  \nbug_id                                                             \n1         Usability issue with external editors (1GE6IRL)     2.0  \n2       Opening repository resources doesn't honor typ...     2.0  \n3               Sync does not indicate deletion (1GIEN83)     2.0  \n4       need better error message if catching up over ...     2.0  \n5       ISharingManager sharing API inconsistent (1GAU...     2.0  "
     },
     "execution_count": 36,
     "metadata": {},
     "output_type": "execute_result"
    }
   ],
   "source": [
    "eclipse.head()"
   ]
  },
  {
   "cell_type": "code",
   "execution_count": 37,
   "metadata": {},
   "outputs": [
    {
     "data": {
      "text/html": "<div>\n<style scoped>\n    .dataframe tbody tr th:only-of-type {\n        vertical-align: middle;\n    }\n\n    .dataframe tbody tr th {\n        vertical-align: top;\n    }\n\n    .dataframe thead th {\n        text-align: right;\n    }\n</style>\n<table border=\"1\" class=\"dataframe\">\n  <thead>\n    <tr style=\"text-align: right;\">\n      <th></th>\n      <th>bug_severity</th>\n      <th>bug_status</th>\n      <th>component</th>\n      <th>creation_ts</th>\n      <th>delta_ts</th>\n      <th>description</th>\n      <th>dup_id</th>\n      <th>priority</th>\n      <th>product</th>\n      <th>resolution</th>\n      <th>short_desc</th>\n      <th>version</th>\n    </tr>\n    <tr>\n      <th>bug_id</th>\n      <th></th>\n      <th></th>\n      <th></th>\n      <th></th>\n      <th></th>\n      <th></th>\n      <th></th>\n      <th></th>\n      <th></th>\n      <th></th>\n      <th></th>\n      <th></th>\n    </tr>\n  </thead>\n  <tbody>\n    <tr>\n      <th>296</th>\n      <td>normal</td>\n      <td>CLOSED</td>\n      <td>debuggertools</td>\n      <td>1998-06-29 18:54:00 +0000</td>\n      <td>2002-07-19 15:17:46 +0000</td>\n      <td>[pslegr]\\nIs it now possible to fix that?</td>\n      <td>[]</td>\n      <td>P4</td>\n      <td>obsolete</td>\n      <td>WONTFIX</td>\n      <td>Debugger does not stop on breakpoints in stati...</td>\n      <td>3.x</td>\n    </tr>\n    <tr>\n      <th>301</th>\n      <td>normal</td>\n      <td>CLOSED</td>\n      <td>Code</td>\n      <td>1998-06-29 19:23:00 +0000</td>\n      <td>2003-06-30 17:26:28 +0000</td>\n      <td>Priority is changed to P4 (normal).</td>\n      <td>[]</td>\n      <td>P4</td>\n      <td>debugger</td>\n      <td>WONTFIX</td>\n      <td>Step out action.</td>\n      <td>3.x</td>\n    </tr>\n    <tr>\n      <th>302</th>\n      <td>normal</td>\n      <td>CLOSED</td>\n      <td>Code</td>\n      <td>1998-06-29 19:26:00 +0000</td>\n      <td>2003-06-30 17:26:30 +0000</td>\n      <td>Problem appears in:\\nStep Over &amp; Step Into act...</td>\n      <td>[]</td>\n      <td>P4</td>\n      <td>debugger</td>\n      <td>WONTFIX</td>\n      <td>Problem with .class without .java sources.</td>\n      <td>3.x</td>\n    </tr>\n    <tr>\n      <th>365</th>\n      <td>normal</td>\n      <td>CLOSED</td>\n      <td>Code</td>\n      <td>1998-07-21 22:44:00 +0000</td>\n      <td>2002-07-19 15:19:34 +0000</td>\n      <td>Use gridlayout, set number of columns to one, ...</td>\n      <td>[]</td>\n      <td>P4</td>\n      <td>guibuilder</td>\n      <td>FIXED</td>\n      <td>After reopen of GridLayout number of cells is bad</td>\n      <td>3.x</td>\n    </tr>\n    <tr>\n      <th>367</th>\n      <td>normal</td>\n      <td>CLOSED</td>\n      <td>Code</td>\n      <td>1998-07-21 23:46:00 +0000</td>\n      <td>2002-07-19 15:19:34 +0000</td>\n      <td>Special editor for String to support localizat...</td>\n      <td>[]</td>\n      <td>P4</td>\n      <td>guibuilder</td>\n      <td>FIXED</td>\n      <td>Property Editor for java.lang.String</td>\n      <td>3.x</td>\n    </tr>\n  </tbody>\n</table>\n</div>",
      "text/plain": "       bug_severity bug_status      component                creation_ts  \\\nbug_id                                                                     \n296          normal     CLOSED  debuggertools  1998-06-29 18:54:00 +0000   \n301          normal     CLOSED           Code  1998-06-29 19:23:00 +0000   \n302          normal     CLOSED           Code  1998-06-29 19:26:00 +0000   \n365          normal     CLOSED           Code  1998-07-21 22:44:00 +0000   \n367          normal     CLOSED           Code  1998-07-21 23:46:00 +0000   \n\n                         delta_ts  \\\nbug_id                              \n296     2002-07-19 15:17:46 +0000   \n301     2003-06-30 17:26:28 +0000   \n302     2003-06-30 17:26:30 +0000   \n365     2002-07-19 15:19:34 +0000   \n367     2002-07-19 15:19:34 +0000   \n\n                                              description dup_id priority  \\\nbug_id                                                                      \n296             [pslegr]\\nIs it now possible to fix that?     []       P4   \n301                   Priority is changed to P4 (normal).     []       P4   \n302     Problem appears in:\\nStep Over & Step Into act...     []       P4   \n365     Use gridlayout, set number of columns to one, ...     []       P4   \n367     Special editor for String to support localizat...     []       P4   \n\n           product resolution  \\\nbug_id                          \n296       obsolete    WONTFIX   \n301       debugger    WONTFIX   \n302       debugger    WONTFIX   \n365     guibuilder      FIXED   \n367     guibuilder      FIXED   \n\n                                               short_desc version  \nbug_id                                                             \n296     Debugger does not stop on breakpoints in stati...     3.x  \n301                                      Step out action.     3.x  \n302            Problem with .class without .java sources.     3.x  \n365     After reopen of GridLayout number of cells is bad     3.x  \n367                  Property Editor for java.lang.String     3.x  "
     },
     "execution_count": 37,
     "metadata": {},
     "output_type": "execute_result"
    }
   ],
   "source": [
    "netbeans.head()"
   ]
  },
  {
   "cell_type": "code",
   "execution_count": 38,
   "metadata": {},
   "outputs": [
    {
     "data": {
      "text/html": "<div>\n<style scoped>\n    .dataframe tbody tr th:only-of-type {\n        vertical-align: middle;\n    }\n\n    .dataframe tbody tr th {\n        vertical-align: top;\n    }\n\n    .dataframe thead th {\n        text-align: right;\n    }\n</style>\n<table border=\"1\" class=\"dataframe\">\n  <thead>\n    <tr style=\"text-align: right;\">\n      <th></th>\n      <th>bug_severity</th>\n      <th>bug_status</th>\n      <th>component</th>\n      <th>creation_ts</th>\n      <th>delta_ts</th>\n      <th>description</th>\n      <th>dup_id</th>\n      <th>priority</th>\n      <th>product</th>\n      <th>resolution</th>\n      <th>short_desc</th>\n      <th>version</th>\n    </tr>\n    <tr>\n      <th>bug_id</th>\n      <th></th>\n      <th></th>\n      <th></th>\n      <th></th>\n      <th></th>\n      <th></th>\n      <th></th>\n      <th></th>\n      <th></th>\n      <th></th>\n      <th></th>\n      <th></th>\n    </tr>\n  </thead>\n  <tbody>\n    <tr>\n      <th>14</th>\n      <td>trivial</td>\n      <td>CLOSED</td>\n      <td>Website general issues</td>\n      <td>2000-10-17 19:40:00 +0000</td>\n      <td>2006-02-07 22:23:55 +0000</td>\n      <td>it would be nice if the combination of OpenOff...</td>\n      <td>[]</td>\n      <td>P3</td>\n      <td>Infrastructure</td>\n      <td>FIXED</td>\n      <td>openoffice.org issuezillla URL's display a hor...</td>\n      <td>current</td>\n    </tr>\n    <tr>\n      <th>15</th>\n      <td>trivial</td>\n      <td>CLOSED</td>\n      <td>Bugzilla</td>\n      <td>2000-10-19 11:49:00 +0000</td>\n      <td>2003-12-27 10:23:17 +0000</td>\n      <td>this task is just a test\\nthis task is just at...</td>\n      <td>[]</td>\n      <td>P5</td>\n      <td>Infrastructure</td>\n      <td>FIXED</td>\n      <td>test task</td>\n      <td>current</td>\n    </tr>\n    <tr>\n      <th>16</th>\n      <td>trivial</td>\n      <td>CLOSED</td>\n      <td>_openoffice.org administrative interface (obso...</td>\n      <td>2000-10-20 15:06:00 +0000</td>\n      <td>2003-12-06 14:52:32 +0000</td>\n      <td>Using the ADMIN link on the main page leads to...</td>\n      <td>[]</td>\n      <td>P1</td>\n      <td>Infrastructure</td>\n      <td>FIXED</td>\n      <td>Administrative Interface not available</td>\n      <td>current</td>\n    </tr>\n    <tr>\n      <th>17</th>\n      <td>trivial</td>\n      <td>CLOSED</td>\n      <td>_openoffice.org CVS (obsolete)</td>\n      <td>2000-10-20 18:46:00 +0000</td>\n      <td>2003-12-06 14:52:32 +0000</td>\n      <td>Entered into Issuezilla for tracking purposes....</td>\n      <td>[]</td>\n      <td>P3</td>\n      <td>Infrastructure</td>\n      <td>FIXED</td>\n      <td>update modules file.</td>\n      <td>current</td>\n    </tr>\n    <tr>\n      <th>19</th>\n      <td>trivial</td>\n      <td>CLOSED</td>\n      <td>definition</td>\n      <td>2000-10-20 22:54:00 +0000</td>\n      <td>2007-09-22 22:15:55 +0000</td>\n      <td>&lt;text:quo-vadis&gt;&lt;/text:quo-vadis&gt;\\n   &lt;text:er...</td>\n      <td>[]</td>\n      <td>P2</td>\n      <td>xml</td>\n      <td>FIXED</td>\n      <td>text:quo-vadis, text:ergo-sum</td>\n      <td>605</td>\n    </tr>\n  </tbody>\n</table>\n</div>",
      "text/plain": "       bug_severity bug_status  \\\nbug_id                           \n14          trivial     CLOSED   \n15          trivial     CLOSED   \n16          trivial     CLOSED   \n17          trivial     CLOSED   \n19          trivial     CLOSED   \n\n                                                component  \\\nbug_id                                                      \n14                                 Website general issues   \n15                                               Bugzilla   \n16      _openoffice.org administrative interface (obso...   \n17                         _openoffice.org CVS (obsolete)   \n19                                             definition   \n\n                      creation_ts                   delta_ts  \\\nbug_id                                                         \n14      2000-10-17 19:40:00 +0000  2006-02-07 22:23:55 +0000   \n15      2000-10-19 11:49:00 +0000  2003-12-27 10:23:17 +0000   \n16      2000-10-20 15:06:00 +0000  2003-12-06 14:52:32 +0000   \n17      2000-10-20 18:46:00 +0000  2003-12-06 14:52:32 +0000   \n19      2000-10-20 22:54:00 +0000  2007-09-22 22:15:55 +0000   \n\n                                              description dup_id priority  \\\nbug_id                                                                      \n14      it would be nice if the combination of OpenOff...     []       P3   \n15      this task is just a test\\nthis task is just at...     []       P5   \n16      Using the ADMIN link on the main page leads to...     []       P1   \n17      Entered into Issuezilla for tracking purposes....     []       P3   \n19      <text:quo-vadis></text:quo-vadis>\\n   <text:er...     []       P2   \n\n               product resolution  \\\nbug_id                              \n14      Infrastructure      FIXED   \n15      Infrastructure      FIXED   \n16      Infrastructure      FIXED   \n17      Infrastructure      FIXED   \n19                 xml      FIXED   \n\n                                               short_desc  version  \nbug_id                                                              \n14      openoffice.org issuezillla URL's display a hor...  current  \n15                                              test task  current  \n16                 Administrative Interface not available  current  \n17                                   update modules file.  current  \n19                          text:quo-vadis, text:ergo-sum      605  "
     },
     "execution_count": 38,
     "metadata": {},
     "output_type": "execute_result"
    }
   ],
   "source": [
    "openoffice.head()"
   ]
  },
  {
   "cell_type": "markdown",
   "metadata": {},
   "source": [
    "## 2. Explorando tamanho dos textos da `short_dsc`"
   ]
  },
  {
   "cell_type": "code",
   "execution_count": 39,
   "metadata": {},
   "outputs": [
    {
     "name": "stdout",
     "output_type": "stream",
     "text": [
      "Eclipse:  255\n",
      "Netbeans:  294\n",
      "Openoffice:  255\n"
     ]
    }
   ],
   "source": [
    "print(\"Eclipse: \", max(eclipse['short_desc'].astype(str).apply(len)))\n",
    "print(\"Netbeans: \", max(netbeans['short_desc'].astype(str).apply(len)))\n",
    "print(\"Openoffice: \", max(openoffice['short_desc'].astype(str).apply(len)))\n"
   ]
  },
  {
   "cell_type": "markdown",
   "metadata": {},
   "source": [
    "## 3. Exportando informações da `short_dsc`"
   ]
  },
  {
   "cell_type": "code",
   "execution_count": 40,
   "metadata": {},
   "outputs": [],
   "source": [
    "eclipse['short_desc'].to_csv(join(processed_path, 'eclipse.csv'))\n",
    "netbeans['short_desc'].to_csv(join(processed_path, 'netbeans.csv'))\n",
    "openoffice['short_desc'].to_csv(join(processed_path, 'openoffice.csv'))"
   ]
  }
 ],
 "metadata": {
  "kernelspec": {
   "display_name": "Python 3",
   "language": "python",
   "name": "python3"
  },
  "language_info": {
   "codemirror_mode": {
    "name": "ipython",
    "version": 3
   },
   "file_extension": ".py",
   "mimetype": "text/x-python",
   "name": "python",
   "nbconvert_exporter": "python",
   "pygments_lexer": "ipython3",
   "version": "3.6.9"
  },
  "orig_nbformat": 2
 },
 "nbformat": 4,
 "nbformat_minor": 2
}